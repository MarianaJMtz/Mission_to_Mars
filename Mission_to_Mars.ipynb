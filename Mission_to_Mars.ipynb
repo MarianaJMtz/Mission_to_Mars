{
 "cells": [
  {
   "cell_type": "code",
   "execution_count": 17,
   "metadata": {
    "collapsed": true
   },
   "outputs": [],
   "source": [
    "#Dependencies\n",
    "from bs4 import BeautifulSoup\n",
    "import requests\n",
    "from splinter import Browser\n",
    "from splinter.exceptions import ElementDoesNotExist\n",
    "import pandas as pd"
   ]
  },
  {
   "cell_type": "code",
   "execution_count": 18,
   "metadata": {
    "collapsed": false
   },
   "outputs": [],
   "source": [
    "# First URL of page to be scraped\n",
    "url = 'https://mars.nasa.gov/news/?page=0&per_page=40&order=publish_date+desc%2Ccreated_at+desc&search=&category=19%2C165%2C184%2C204&blank_scope=Latest'\n",
    "\n",
    "# Retrieve page with the requests module\n",
    "response = requests.get(url)\n",
    "\n",
    "# Create BeautifulSoup object; parse with 'lxml'\n",
    "soup = BeautifulSoup(response.text, 'lxml')\n"
   ]
  },
  {
   "cell_type": "code",
   "execution_count": 23,
   "metadata": {
    "collapsed": false
   },
   "outputs": [
    {
     "data": {
      "text/plain": [
       "\"NASA's Opportunity Mars rover mission is complete after 15 years on Mars. Opportunity's record-breaking exploration laid the groundwork for future missions to the Red Planet.\""
      ]
     },
     "execution_count": 23,
     "metadata": {},
     "output_type": "execute_result"
    }
   ],
   "source": [
    "#Retrieve latest news' title and paragraph; store into variables\n",
    "results = soup.find('div', class_='image_and_description_container')\n",
    "    \n",
    "news_title = results.find_all('img')\n",
    "news_title = news_title[1]['alt']\n",
    "news_p = results.find('div', class_='rollover_description_inner').text\n",
    "news_p = news_p.replace('\\n','')\n"
   ]
  },
  {
   "cell_type": "code",
   "execution_count": 4,
   "metadata": {
    "collapsed": true
   },
   "outputs": [],
   "source": [
    "#Set up Chrome.exe\n",
    "executable_path = {'executable_path': 'chromedriver.exe'}\n",
    "browser = Browser('chrome', **executable_path, headless=False)"
   ]
  },
  {
   "cell_type": "code",
   "execution_count": 5,
   "metadata": {
    "collapsed": true
   },
   "outputs": [],
   "source": [
    "#Connect to URL\n",
    "url = 'https://www.jpl.nasa.gov/spaceimages/?search=&category=Mars'\n",
    "browser.visit(url)\n",
    "\n",
    "#Prepare to use Beautiful Soup\n",
    "html = browser.html\n",
    "soup = BeautifulSoup(html, 'html.parser')"
   ]
  },
  {
   "cell_type": "code",
   "execution_count": 6,
   "metadata": {
    "collapsed": false
   },
   "outputs": [],
   "source": [
    "#Push FULL IMAGE button to retrieve the image URL\n",
    "browser.click_link_by_partial_text('FULL IMAGE')"
   ]
  },
  {
   "cell_type": "code",
   "execution_count": 7,
   "metadata": {
    "collapsed": false
   },
   "outputs": [],
   "source": [
    "#Retrieve image URL\n",
    "results = soup.find('a', class_='button fancybox')\n",
    "feature_image_url = results['data-fancybox-href']\n",
    "feature_image_url = feature_image_url.replace('medium','large')\n",
    "feature_image_url = feature_image_url.replace('ip','hires')\n",
    "url_short = url.rsplit('/spaceimages',1)[0]\n",
    "feature_image_url = url_short + feature_image_url"
   ]
  },
  {
   "cell_type": "code",
   "execution_count": 8,
   "metadata": {
    "collapsed": true
   },
   "outputs": [],
   "source": [
    "#Now let's retrieve Mars weather\n",
    "url = 'https://twitter.com/marswxreport?lang=en'\n",
    "\n",
    "# Retrieve page with the requests module\n",
    "response = requests.get(url)\n",
    "\n",
    "# Create BeautifulSoup object; parse with 'lxml'\n",
    "soup = BeautifulSoup(response.text, 'lxml')\n"
   ]
  },
  {
   "cell_type": "code",
   "execution_count": 9,
   "metadata": {
    "collapsed": false
   },
   "outputs": [],
   "source": [
    "#Find all the tags that contain tweets\n",
    "results = soup.find_all('div', class_='content')\n",
    "\n",
    "for result in results:\n",
    "    texto = result.find('p', class_='TweetTextSize TweetTextSize--normal js-tweet-text tweet-text').text\n",
    "    if texto[:3] == 'Sol':\n",
    "        mars_weather = texto.rsplit('pic.twitter',1)[0]\n",
    "        break"
   ]
  },
  {
   "cell_type": "code",
   "execution_count": 10,
   "metadata": {
    "collapsed": true
   },
   "outputs": [],
   "source": [
    "#Go for the FACTS table!\n",
    "url = 'https://space-facts.com/mars/'"
   ]
  },
  {
   "cell_type": "code",
   "execution_count": 11,
   "metadata": {
    "collapsed": false
   },
   "outputs": [],
   "source": [
    "#Start retrieving the data from the table\n",
    "table = pd.read_html(url)"
   ]
  },
  {
   "cell_type": "code",
   "execution_count": 12,
   "metadata": {
    "collapsed": false
   },
   "outputs": [],
   "source": [
    "#Organize pandas df\n",
    "df = table[0]\n",
    "df.columns = ['Description', 'Value']\n",
    "df.set_index('Description', inplace=True)"
   ]
  },
  {
   "cell_type": "code",
   "execution_count": 13,
   "metadata": {
    "collapsed": false
   },
   "outputs": [],
   "source": [
    "#Transform to HTML string\n",
    "html_table = df.to_html()"
   ]
  },
  {
   "cell_type": "code",
   "execution_count": 14,
   "metadata": {
    "collapsed": true
   },
   "outputs": [],
   "source": [
    "#Set up Chrome.exe\n",
    "executable_path = {'executable_path': 'chromedriver.exe'}\n",
    "browser = Browser('chrome', **executable_path, headless=False)"
   ]
  },
  {
   "cell_type": "code",
   "execution_count": 15,
   "metadata": {
    "collapsed": false
   },
   "outputs": [],
   "source": [
    "#Connect to URL to find photos of Mars Hemispheres\n",
    "url = 'https://astrogeology.usgs.gov/maps/mars-viking-hemisphere-point-perspectives'\n",
    "browser.visit(url)"
   ]
  },
  {
   "cell_type": "code",
   "execution_count": 16,
   "metadata": {
    "collapsed": false
   },
   "outputs": [],
   "source": [
    "Hemispheres = ['valles_marineris', 'syrtis_major', 'schiaparelli', 'cerberus']\n",
    "hemisphere_image_urls = []\n",
    "\n",
    "for Hemisphere in Hemispheres:\n",
    "    \n",
    "    try:\n",
    "        browser.click_link_by_partial_href(Hemisphere + '_enhanced' )\n",
    "        #Prepare to use Beautiful Soup\n",
    "        html = browser.html\n",
    "        soup = BeautifulSoup(html, 'html.parser')\n",
    "        title = soup.find('h2', class_='title').text\n",
    "        title = title.rsplit(' Enhanced',1)[0]\n",
    "        image = soup.find('img', class_='wide-image')\n",
    "        image_link = 'https://astrogeology.usgs.gov' + image['src']\n",
    "        d = {'title': title,'image_url' : image_link}\n",
    "        hemisphere_image_urls.append(d)\n",
    "        \n",
    "    except:\n",
    "        browser.find_link_by_text('2').first.click()\n",
    "        browser.click_link_by_partial_href(Hemisphere + '_enhanced' )\n",
    "        #Prepare to use Beautiful Soup\n",
    "        html = browser.html\n",
    "        soup = BeautifulSoup(html, 'html.parser')\n",
    "        title = soup.find('h2', class_='title').text\n",
    "        title = title.rsplit(' Enhanced',1)[0]\n",
    "        image = soup.find('img', class_='wide-image')\n",
    "        image_link = 'https://astrogeology.usgs.gov' + image['src']\n",
    "        d = {'title': title,'image_url' : image_link}\n",
    "        hemisphere_image_urls.append(d)"
   ]
  },
  {
   "cell_type": "code",
   "execution_count": null,
   "metadata": {
    "collapsed": true
   },
   "outputs": [],
   "source": []
  }
 ],
 "metadata": {
  "anaconda-cloud": {},
  "kernelspec": {
   "display_name": "Python [conda env:Anaconda3]",
   "language": "python",
   "name": "conda-env-Anaconda3-py"
  },
  "language_info": {
   "codemirror_mode": {
    "name": "ipython",
    "version": 3
   },
   "file_extension": ".py",
   "mimetype": "text/x-python",
   "name": "python",
   "nbconvert_exporter": "python",
   "pygments_lexer": "ipython3",
   "version": "3.5.6"
  }
 },
 "nbformat": 4,
 "nbformat_minor": 1
}
